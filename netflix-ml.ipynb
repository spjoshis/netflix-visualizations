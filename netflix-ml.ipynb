{
 "cells": [
  {
   "cell_type": "markdown",
   "id": "collectible-independence",
   "metadata": {
    "papermill": {
     "duration": 0.023842,
     "end_time": "2021-09-27T13:58:16.843307",
     "exception": false,
     "start_time": "2021-09-27T13:58:16.819465",
     "status": "completed"
    },
    "tags": []
   },
   "source": [
    "# Netflix Visualizations (Descriptive Statistics) 🎬"
   ]
  },
  {
   "cell_type": "markdown",
   "id": "dirty-camping",
   "metadata": {
    "papermill": {
     "duration": 0.025932,
     "end_time": "2021-09-27T13:58:16.901319",
     "exception": false,
     "start_time": "2021-09-27T13:58:16.875387",
     "status": "completed"
    },
    "tags": []
   },
   "source": [
    "<font size=\"3\">Netflix is one of the top OTT platforms in this time. This notebook contains analytics of Netflix Shows and Analytics based on contents. I have used Seaborn for visual charts</font>\n",
    "\n",
    "1. Import Libraries & Data\n",
    "2. Missing data analysis\n",
    "3. Exploratory Data Analysis<br>\n",
    "\t3.1 Year wise number of released movies/shows<br>\n",
    "\t3.2 Explore Movies vs TV Shows<br>\n",
    "\t3.3 Content distribution based on rating<br>\n",
    "\t3.4 Top 5 country wise ratings<br>\n",
    "\t3.5 Top 10 Movies and TV Shows<br>\n",
    "\t3.6 Duration analysis<br>\n",
    "    \n",
    "**Data Structure**<br>\n",
    "show_id - object<br>\n",
    "type - object<br>\n",
    "title - object<br>\n",
    "director - object<br>\n",
    "cast - object<br>\n",
    "country - object<br>\n",
    "date_added - object<br>\n",
    "release_year - int64<br>\n",
    "rating - object<br>\n",
    "duration - object<br>\n",
    "listed_in - object<br>\n",
    "description - object\n"
   ]
  },
  {
   "cell_type": "markdown",
   "id": "surrounded-placement",
   "metadata": {
    "papermill": {
     "duration": 0.024975,
     "end_time": "2021-09-27T13:58:16.949128",
     "exception": false,
     "start_time": "2021-09-27T13:58:16.924153",
     "status": "completed"
    },
    "tags": []
   },
   "source": [
    "<font size=\"5\">1. Import Libraries & Data</font>"
   ]
  },
  {
   "cell_type": "code",
   "execution_count": 1,
   "id": "fallen-shield",
   "metadata": {
    "_cell_guid": "b1076dfc-b9ad-4769-8c92-a6c4dae69d19",
    "_uuid": "8f2839f25d086af736a60e9eeb907d3b93b6e0e5",
    "execution": {
     "iopub.execute_input": "2021-09-27T13:58:17.004547Z",
     "iopub.status.busy": "2021-09-27T13:58:17.003978Z",
     "iopub.status.idle": "2021-09-27T13:58:17.748047Z",
     "shell.execute_reply": "2021-09-27T13:58:17.745664Z",
     "shell.execute_reply.started": "2021-09-27T13:39:41.623931Z"
    },
    "papermill": {
     "duration": 0.77563,
     "end_time": "2021-09-27T13:58:17.748224",
     "exception": false,
     "start_time": "2021-09-27T13:58:16.972594",
     "status": "completed"
    },
    "tags": []
   },
   "outputs": [],
   "source": [
    "import numpy as np\n",
    "import pandas as pd\n",
    "import matplotlib.pyplot as plt\n",
    "import seaborn as sns"
   ]
  },
  {
   "cell_type": "code",
   "execution_count": 2,
   "id": "common-japan",
   "metadata": {
    "execution": {
     "iopub.execute_input": "2021-09-27T13:58:17.798828Z",
     "iopub.status.busy": "2021-09-27T13:58:17.798153Z",
     "iopub.status.idle": "2021-09-27T13:58:17.919378Z",
     "shell.execute_reply": "2021-09-27T13:58:17.918749Z",
     "shell.execute_reply.started": "2021-09-27T13:39:42.427853Z"
    },
    "papermill": {
     "duration": 0.148716,
     "end_time": "2021-09-27T13:58:17.919516",
     "exception": false,
     "start_time": "2021-09-27T13:58:17.770800",
     "status": "completed"
    },
    "tags": []
   },
   "outputs": [],
   "source": [
    "# Import data from CSV file\n",
    "netflix = pd.read_csv(\"/kaggle/input/netflix-shows/netflix_titles.csv\")"
   ]
  },
  {
   "cell_type": "code",
   "execution_count": 3,
   "id": "martial-surface",
   "metadata": {
    "execution": {
     "iopub.execute_input": "2021-09-27T13:58:17.975917Z",
     "iopub.status.busy": "2021-09-27T13:58:17.975055Z",
     "iopub.status.idle": "2021-09-27T13:58:17.998992Z",
     "shell.execute_reply": "2021-09-27T13:58:17.999492Z",
     "shell.execute_reply.started": "2021-09-27T13:39:42.585238Z"
    },
    "papermill": {
     "duration": 0.057364,
     "end_time": "2021-09-27T13:58:17.999681",
     "exception": false,
     "start_time": "2021-09-27T13:58:17.942317",
     "status": "completed"
    },
    "tags": []
   },
   "outputs": [
    {
     "data": {
      "text/html": [
       "<div>\n",
       "<style scoped>\n",
       "    .dataframe tbody tr th:only-of-type {\n",
       "        vertical-align: middle;\n",
       "    }\n",
       "\n",
       "    .dataframe tbody tr th {\n",
       "        vertical-align: top;\n",
       "    }\n",
       "\n",
       "    .dataframe thead th {\n",
       "        text-align: right;\n",
       "    }\n",
       "</style>\n",
       "<table border=\"1\" class=\"dataframe\">\n",
       "  <thead>\n",
       "    <tr style=\"text-align: right;\">\n",
       "      <th></th>\n",
       "      <th>show_id</th>\n",
       "      <th>type</th>\n",
       "      <th>title</th>\n",
       "      <th>director</th>\n",
       "      <th>cast</th>\n",
       "      <th>country</th>\n",
       "      <th>date_added</th>\n",
       "      <th>release_year</th>\n",
       "      <th>rating</th>\n",
       "      <th>duration</th>\n",
       "      <th>listed_in</th>\n",
       "      <th>description</th>\n",
       "    </tr>\n",
       "  </thead>\n",
       "  <tbody>\n",
       "    <tr>\n",
       "      <th>0</th>\n",
       "      <td>s1</td>\n",
       "      <td>Movie</td>\n",
       "      <td>Dick Johnson Is Dead</td>\n",
       "      <td>Kirsten Johnson</td>\n",
       "      <td>NaN</td>\n",
       "      <td>United States</td>\n",
       "      <td>September 25, 2021</td>\n",
       "      <td>2020</td>\n",
       "      <td>PG-13</td>\n",
       "      <td>90 min</td>\n",
       "      <td>Documentaries</td>\n",
       "      <td>As her father nears the end of his life, filmm...</td>\n",
       "    </tr>\n",
       "    <tr>\n",
       "      <th>1</th>\n",
       "      <td>s2</td>\n",
       "      <td>TV Show</td>\n",
       "      <td>Blood &amp; Water</td>\n",
       "      <td>NaN</td>\n",
       "      <td>Ama Qamata, Khosi Ngema, Gail Mabalane, Thaban...</td>\n",
       "      <td>South Africa</td>\n",
       "      <td>September 24, 2021</td>\n",
       "      <td>2021</td>\n",
       "      <td>TV-MA</td>\n",
       "      <td>2 Seasons</td>\n",
       "      <td>International TV Shows, TV Dramas, TV Mysteries</td>\n",
       "      <td>After crossing paths at a party, a Cape Town t...</td>\n",
       "    </tr>\n",
       "    <tr>\n",
       "      <th>2</th>\n",
       "      <td>s3</td>\n",
       "      <td>TV Show</td>\n",
       "      <td>Ganglands</td>\n",
       "      <td>Julien Leclercq</td>\n",
       "      <td>Sami Bouajila, Tracy Gotoas, Samuel Jouy, Nabi...</td>\n",
       "      <td>NaN</td>\n",
       "      <td>September 24, 2021</td>\n",
       "      <td>2021</td>\n",
       "      <td>TV-MA</td>\n",
       "      <td>1 Season</td>\n",
       "      <td>Crime TV Shows, International TV Shows, TV Act...</td>\n",
       "      <td>To protect his family from a powerful drug lor...</td>\n",
       "    </tr>\n",
       "    <tr>\n",
       "      <th>3</th>\n",
       "      <td>s4</td>\n",
       "      <td>TV Show</td>\n",
       "      <td>Jailbirds New Orleans</td>\n",
       "      <td>NaN</td>\n",
       "      <td>NaN</td>\n",
       "      <td>NaN</td>\n",
       "      <td>September 24, 2021</td>\n",
       "      <td>2021</td>\n",
       "      <td>TV-MA</td>\n",
       "      <td>1 Season</td>\n",
       "      <td>Docuseries, Reality TV</td>\n",
       "      <td>Feuds, flirtations and toilet talk go down amo...</td>\n",
       "    </tr>\n",
       "    <tr>\n",
       "      <th>4</th>\n",
       "      <td>s5</td>\n",
       "      <td>TV Show</td>\n",
       "      <td>Kota Factory</td>\n",
       "      <td>NaN</td>\n",
       "      <td>Mayur More, Jitendra Kumar, Ranjan Raj, Alam K...</td>\n",
       "      <td>India</td>\n",
       "      <td>September 24, 2021</td>\n",
       "      <td>2021</td>\n",
       "      <td>TV-MA</td>\n",
       "      <td>2 Seasons</td>\n",
       "      <td>International TV Shows, Romantic TV Shows, TV ...</td>\n",
       "      <td>In a city of coaching centers known to train I...</td>\n",
       "    </tr>\n",
       "  </tbody>\n",
       "</table>\n",
       "</div>"
      ],
      "text/plain": [
       "  show_id     type                  title         director  \\\n",
       "0      s1    Movie   Dick Johnson Is Dead  Kirsten Johnson   \n",
       "1      s2  TV Show          Blood & Water              NaN   \n",
       "2      s3  TV Show              Ganglands  Julien Leclercq   \n",
       "3      s4  TV Show  Jailbirds New Orleans              NaN   \n",
       "4      s5  TV Show           Kota Factory              NaN   \n",
       "\n",
       "                                                cast        country  \\\n",
       "0                                                NaN  United States   \n",
       "1  Ama Qamata, Khosi Ngema, Gail Mabalane, Thaban...   South Africa   \n",
       "2  Sami Bouajila, Tracy Gotoas, Samuel Jouy, Nabi...            NaN   \n",
       "3                                                NaN            NaN   \n",
       "4  Mayur More, Jitendra Kumar, Ranjan Raj, Alam K...          India   \n",
       "\n",
       "           date_added  release_year rating   duration  \\\n",
       "0  September 25, 2021          2020  PG-13     90 min   \n",
       "1  September 24, 2021          2021  TV-MA  2 Seasons   \n",
       "2  September 24, 2021          2021  TV-MA   1 Season   \n",
       "3  September 24, 2021          2021  TV-MA   1 Season   \n",
       "4  September 24, 2021          2021  TV-MA  2 Seasons   \n",
       "\n",
       "                                           listed_in  \\\n",
       "0                                      Documentaries   \n",
       "1    International TV Shows, TV Dramas, TV Mysteries   \n",
       "2  Crime TV Shows, International TV Shows, TV Act...   \n",
       "3                             Docuseries, Reality TV   \n",
       "4  International TV Shows, Romantic TV Shows, TV ...   \n",
       "\n",
       "                                         description  \n",
       "0  As her father nears the end of his life, filmm...  \n",
       "1  After crossing paths at a party, a Cape Town t...  \n",
       "2  To protect his family from a powerful drug lor...  \n",
       "3  Feuds, flirtations and toilet talk go down amo...  \n",
       "4  In a city of coaching centers known to train I...  "
      ]
     },
     "execution_count": 3,
     "metadata": {},
     "output_type": "execute_result"
    }
   ],
   "source": [
    "# Let see the dataset structure\n",
    "netflix.head()"
   ]
  },
  {
   "cell_type": "markdown",
   "id": "exact-blanket",
   "metadata": {
    "papermill": {
     "duration": 0.023218,
     "end_time": "2021-09-27T13:58:18.047319",
     "exception": false,
     "start_time": "2021-09-27T13:58:18.024101",
     "status": "completed"
    },
    "tags": []
   },
   "source": [
    "<font size=\"5\">2. Missing data analysis</font>"
   ]
  },
  {
   "cell_type": "code",
   "execution_count": 4,
   "id": "qualified-university",
   "metadata": {
    "execution": {
     "iopub.execute_input": "2021-09-27T13:58:18.103133Z",
     "iopub.status.busy": "2021-09-27T13:58:18.102102Z",
     "iopub.status.idle": "2021-09-27T13:58:18.114593Z",
     "shell.execute_reply": "2021-09-27T13:58:18.115072Z",
     "shell.execute_reply.started": "2021-09-27T13:39:42.619509Z"
    },
    "papermill": {
     "duration": 0.044919,
     "end_time": "2021-09-27T13:58:18.115247",
     "exception": false,
     "start_time": "2021-09-27T13:58:18.070328",
     "status": "completed"
    },
    "tags": []
   },
   "outputs": [
    {
     "data": {
      "text/html": [
       "<div>\n",
       "<style scoped>\n",
       "    .dataframe tbody tr th:only-of-type {\n",
       "        vertical-align: middle;\n",
       "    }\n",
       "\n",
       "    .dataframe tbody tr th {\n",
       "        vertical-align: top;\n",
       "    }\n",
       "\n",
       "    .dataframe thead th {\n",
       "        text-align: right;\n",
       "    }\n",
       "</style>\n",
       "<table border=\"1\" class=\"dataframe\">\n",
       "  <thead>\n",
       "    <tr style=\"text-align: right;\">\n",
       "      <th></th>\n",
       "      <th>release_year</th>\n",
       "    </tr>\n",
       "  </thead>\n",
       "  <tbody>\n",
       "    <tr>\n",
       "      <th>count</th>\n",
       "      <td>8807.000000</td>\n",
       "    </tr>\n",
       "    <tr>\n",
       "      <th>mean</th>\n",
       "      <td>2014.180198</td>\n",
       "    </tr>\n",
       "    <tr>\n",
       "      <th>std</th>\n",
       "      <td>8.819312</td>\n",
       "    </tr>\n",
       "    <tr>\n",
       "      <th>min</th>\n",
       "      <td>1925.000000</td>\n",
       "    </tr>\n",
       "    <tr>\n",
       "      <th>25%</th>\n",
       "      <td>2013.000000</td>\n",
       "    </tr>\n",
       "    <tr>\n",
       "      <th>50%</th>\n",
       "      <td>2017.000000</td>\n",
       "    </tr>\n",
       "    <tr>\n",
       "      <th>75%</th>\n",
       "      <td>2019.000000</td>\n",
       "    </tr>\n",
       "    <tr>\n",
       "      <th>max</th>\n",
       "      <td>2021.000000</td>\n",
       "    </tr>\n",
       "  </tbody>\n",
       "</table>\n",
       "</div>"
      ],
      "text/plain": [
       "       release_year\n",
       "count   8807.000000\n",
       "mean    2014.180198\n",
       "std        8.819312\n",
       "min     1925.000000\n",
       "25%     2013.000000\n",
       "50%     2017.000000\n",
       "75%     2019.000000\n",
       "max     2021.000000"
      ]
     },
     "execution_count": 4,
     "metadata": {},
     "output_type": "execute_result"
    }
   ],
   "source": [
    "# Display numeric value information and datatype\n",
    "\n",
    "netflix.describe()"
   ]
  },
  {
   "cell_type": "code",
   "execution_count": 5,
   "id": "affected-adapter",
   "metadata": {
    "execution": {
     "iopub.execute_input": "2021-09-27T13:58:18.187680Z",
     "iopub.status.busy": "2021-09-27T13:58:18.177245Z",
     "iopub.status.idle": "2021-09-27T13:58:18.191841Z",
     "shell.execute_reply": "2021-09-27T13:58:18.192918Z",
     "shell.execute_reply.started": "2021-09-27T13:39:42.643218Z"
    },
    "papermill": {
     "duration": 0.053454,
     "end_time": "2021-09-27T13:58:18.193164",
     "exception": false,
     "start_time": "2021-09-27T13:58:18.139710",
     "status": "completed"
    },
    "tags": []
   },
   "outputs": [
    {
     "name": "stdout",
     "output_type": "stream",
     "text": [
      "<class 'pandas.core.frame.DataFrame'>\n",
      "RangeIndex: 8807 entries, 0 to 8806\n",
      "Data columns (total 12 columns):\n",
      " #   Column        Non-Null Count  Dtype \n",
      "---  ------        --------------  ----- \n",
      " 0   show_id       8807 non-null   object\n",
      " 1   type          8807 non-null   object\n",
      " 2   title         8807 non-null   object\n",
      " 3   director      6173 non-null   object\n",
      " 4   cast          7982 non-null   object\n",
      " 5   country       7976 non-null   object\n",
      " 6   date_added    8797 non-null   object\n",
      " 7   release_year  8807 non-null   int64 \n",
      " 8   rating        8803 non-null   object\n",
      " 9   duration      8804 non-null   object\n",
      " 10  listed_in     8807 non-null   object\n",
      " 11  description   8807 non-null   object\n",
      "dtypes: int64(1), object(11)\n",
      "memory usage: 825.8+ KB\n"
     ]
    }
   ],
   "source": [
    "netflix.info()"
   ]
  },
  {
   "cell_type": "code",
   "execution_count": 6,
   "id": "competent-driver",
   "metadata": {
    "execution": {
     "iopub.execute_input": "2021-09-27T13:58:18.257925Z",
     "iopub.status.busy": "2021-09-27T13:58:18.256896Z",
     "iopub.status.idle": "2021-09-27T13:58:18.276142Z",
     "shell.execute_reply": "2021-09-27T13:58:18.276776Z",
     "shell.execute_reply.started": "2021-09-27T13:39:42.673801Z"
    },
    "papermill": {
     "duration": 0.059043,
     "end_time": "2021-09-27T13:58:18.276948",
     "exception": false,
     "start_time": "2021-09-27T13:58:18.217905",
     "status": "completed"
    },
    "tags": []
   },
   "outputs": [
    {
     "data": {
      "text/plain": [
       "show_id          0.000000\n",
       "type             0.000000\n",
       "title            0.000000\n",
       "director        29.908028\n",
       "cast             9.367549\n",
       "country          9.435676\n",
       "date_added       0.113546\n",
       "release_year     0.000000\n",
       "rating           0.045418\n",
       "duration         0.034064\n",
       "listed_in        0.000000\n",
       "description      0.000000\n",
       "dtype: float64"
      ]
     },
     "execution_count": 6,
     "metadata": {},
     "output_type": "execute_result"
    }
   ],
   "source": [
    "# Get percentage of null values\n",
    "\n",
    "netflix.isnull().sum()/(len(netflix))*100"
   ]
  },
  {
   "cell_type": "markdown",
   "id": "acceptable-gnome",
   "metadata": {
    "papermill": {
     "duration": 0.024619,
     "end_time": "2021-09-27T13:58:18.326336",
     "exception": false,
     "start_time": "2021-09-27T13:58:18.301717",
     "status": "completed"
    },
    "tags": []
   },
   "source": [
    "As per obversation there 29% directors are missing or null. Country and cast also have 9% null values"
   ]
  },
  {
   "cell_type": "code",
   "execution_count": 7,
   "id": "informational-thousand",
   "metadata": {
    "execution": {
     "iopub.execute_input": "2021-09-27T13:58:18.379232Z",
     "iopub.status.busy": "2021-09-27T13:58:18.378548Z",
     "iopub.status.idle": "2021-09-27T13:58:18.384817Z",
     "shell.execute_reply": "2021-09-27T13:58:18.385305Z",
     "shell.execute_reply.started": "2021-09-27T13:39:42.707470Z"
    },
    "papermill": {
     "duration": 0.034082,
     "end_time": "2021-09-27T13:58:18.385472",
     "exception": false,
     "start_time": "2021-09-27T13:58:18.351390",
     "status": "completed"
    },
    "tags": []
   },
   "outputs": [],
   "source": [
    "# Remove director column as it has maximum null values\n",
    "\n",
    "netflix.drop('director', axis=1, inplace=True)"
   ]
  },
  {
   "cell_type": "code",
   "execution_count": 8,
   "id": "neutral-cliff",
   "metadata": {
    "execution": {
     "iopub.execute_input": "2021-09-27T13:58:18.438493Z",
     "iopub.status.busy": "2021-09-27T13:58:18.437874Z",
     "iopub.status.idle": "2021-09-27T13:58:18.445024Z",
     "shell.execute_reply": "2021-09-27T13:58:18.445535Z",
     "shell.execute_reply.started": "2021-09-27T13:39:42.717196Z"
    },
    "papermill": {
     "duration": 0.03521,
     "end_time": "2021-09-27T13:58:18.445718",
     "exception": false,
     "start_time": "2021-09-27T13:58:18.410508",
     "status": "completed"
    },
    "tags": []
   },
   "outputs": [],
   "source": [
    "# Drop `date_added` as we don't need it in analytics\n",
    "netflix = netflix[netflix['date_added'].notna()]"
   ]
  },
  {
   "cell_type": "code",
   "execution_count": 9,
   "id": "motivated-submission",
   "metadata": {
    "execution": {
     "iopub.execute_input": "2021-09-27T13:58:18.498021Z",
     "iopub.status.busy": "2021-09-27T13:58:18.497440Z",
     "iopub.status.idle": "2021-09-27T13:58:18.506175Z",
     "shell.execute_reply": "2021-09-27T13:58:18.506659Z",
     "shell.execute_reply.started": "2021-09-27T13:39:42.728790Z"
    },
    "papermill": {
     "duration": 0.036621,
     "end_time": "2021-09-27T13:58:18.506836",
     "exception": false,
     "start_time": "2021-09-27T13:58:18.470215",
     "status": "completed"
    },
    "tags": []
   },
   "outputs": [
    {
     "data": {
      "text/plain": [
       "TV-MA       3205\n",
       "TV-14       2157\n",
       "TV-PG        861\n",
       "R            799\n",
       "PG-13        490\n",
       "TV-Y7        333\n",
       "TV-Y         306\n",
       "PG           287\n",
       "TV-G         220\n",
       "NR            79\n",
       "G             41\n",
       "TV-Y7-FV       6\n",
       "UR             3\n",
       "NC-17          3\n",
       "74 min         1\n",
       "84 min         1\n",
       "66 min         1\n",
       "Name: rating, dtype: int64"
      ]
     },
     "execution_count": 9,
     "metadata": {},
     "output_type": "execute_result"
    }
   ],
   "source": [
    "# Display value counts of ratings\n",
    "\n",
    "netflix.rating.value_counts()"
   ]
  },
  {
   "cell_type": "code",
   "execution_count": 10,
   "id": "geological-discount",
   "metadata": {
    "execution": {
     "iopub.execute_input": "2021-09-27T13:58:18.575462Z",
     "iopub.status.busy": "2021-09-27T13:58:18.574536Z",
     "iopub.status.idle": "2021-09-27T13:58:18.578850Z",
     "shell.execute_reply": "2021-09-27T13:58:18.578134Z",
     "shell.execute_reply.started": "2021-09-27T13:39:42.743932Z"
    },
    "papermill": {
     "duration": 0.044285,
     "end_time": "2021-09-27T13:58:18.579002",
     "exception": false,
     "start_time": "2021-09-27T13:58:18.534717",
     "status": "completed"
    },
    "tags": []
   },
   "outputs": [],
   "source": [
    "# Fill null values of rating with most occuring rating\n",
    "netflix.rating.fillna('TV-MA', inplace=True)"
   ]
  },
  {
   "cell_type": "markdown",
   "id": "interior-transportation",
   "metadata": {
    "papermill": {
     "duration": 0.028774,
     "end_time": "2021-09-27T13:58:18.640973",
     "exception": false,
     "start_time": "2021-09-27T13:58:18.612199",
     "status": "completed"
    },
    "tags": []
   },
   "source": [
    "<font size=\"5\">3. Exploratory Data Analysis</font>"
   ]
  },
  {
   "cell_type": "markdown",
   "id": "official-thickness",
   "metadata": {
    "papermill": {
     "duration": 0.02455,
     "end_time": "2021-09-27T13:58:18.690501",
     "exception": false,
     "start_time": "2021-09-27T13:58:18.665951",
     "status": "completed"
    },
    "tags": []
   },
   "source": [
    "In this part i displayed various type of data visulizations using seaborn. You can use other visulization libraries too"
   ]
  },
  {
   "cell_type": "markdown",
   "id": "dated-cookbook",
   "metadata": {
    "papermill": {
     "duration": 0.0238,
     "end_time": "2021-09-27T13:58:18.740053",
     "exception": false,
     "start_time": "2021-09-27T13:58:18.716253",
     "status": "completed"
    },
    "tags": []
   },
   "source": [
    "<font size=\"3\">**3.1 Year wise number of released movies/shows**</font>"
   ]
  },
  {
   "cell_type": "code",
   "execution_count": 11,
   "id": "proud-heather",
   "metadata": {
    "execution": {
     "iopub.execute_input": "2021-09-27T13:58:18.791311Z",
     "iopub.status.busy": "2021-09-27T13:58:18.790457Z",
     "iopub.status.idle": "2021-09-27T13:58:19.026062Z",
     "shell.execute_reply": "2021-09-27T13:58:19.026455Z",
     "shell.execute_reply.started": "2021-09-27T13:39:42.757004Z"
    },
    "papermill": {
     "duration": 0.262368,
     "end_time": "2021-09-27T13:58:19.026645",
     "exception": false,
     "start_time": "2021-09-27T13:58:18.764277",
     "status": "completed"
    },
    "tags": []
   },
   "outputs": [
    {
     "data": {
      "text/plain": [
       "Text(0.5, 1.0, 'Year Wise Releases')"
      ]
     },
     "execution_count": 11,
     "metadata": {},
     "output_type": "execute_result"
    },
    {
     "data": {
      "image/png": "[encoded data removed]",
      "text/plain": [
       "<Figure size 720x504 with 1 Axes>"
      ]
     },
     "metadata": {
      "needs_background": "light"
     },
     "output_type": "display_data"
    }
   ],
   "source": [
    "# Year wise number of released movies/shows\n",
    "plt.figure(figsize=(13,10))\n",
    "g = netflix[netflix['release_year'] > 2010].release_year.value_counts().plot.bar(figsize=(10, 7))\n",
    "g.set_xlabel(\"Release Year\")\n",
    "g.set_ylabel(\"No of Released Movies\")\n",
    "g.set_title(\"Year Wise Releases\")"
   ]
  },
  {
   "cell_type": "code",
   "execution_count": 12,
   "id": "painted-refrigerator",
   "metadata": {
    "execution": {
     "iopub.execute_input": "2021-09-27T13:58:19.080843Z",
     "iopub.status.busy": "2021-09-27T13:58:19.079838Z",
     "iopub.status.idle": "2021-09-27T13:58:19.089700Z",
     "shell.execute_reply": "2021-09-27T13:58:19.090137Z",
     "shell.execute_reply.started": "2021-09-27T13:39:43.009498Z"
    },
    "papermill": {
     "duration": 0.038349,
     "end_time": "2021-09-27T13:58:19.090307",
     "exception": false,
     "start_time": "2021-09-27T13:58:19.051958",
     "status": "completed"
    },
    "tags": []
   },
   "outputs": [
    {
     "data": {
      "text/plain": [
       "United States                                                           2812\n",
       "India                                                                    972\n",
       "United Kingdom                                                           418\n",
       "Japan                                                                    244\n",
       "South Korea                                                              199\n",
       "                                                                        ... \n",
       "Canada, Nigeria                                                            1\n",
       "United States, United Kingdom, Denmark, Sweden                             1\n",
       "Ireland, United States, France                                             1\n",
       "United States, Philippines                                                 1\n",
       "Australia, United Kingdom, United States, New Zealand, Italy, France       1\n",
       "Name: country, Length: 748, dtype: int64"
      ]
     },
     "execution_count": 12,
     "metadata": {},
     "output_type": "execute_result"
    }
   ],
   "source": [
    "netflix.country.value_counts()"
   ]
  },
  {
   "cell_type": "markdown",
   "id": "terminal-class",
   "metadata": {
    "papermill": {
     "duration": 0.026173,
     "end_time": "2021-09-27T13:58:19.142925",
     "exception": false,
     "start_time": "2021-09-27T13:58:19.116752",
     "status": "completed"
    },
    "tags": []
   },
   "source": [
    "<font size=\"3\">**3.2 Explore Movies vs TV Shows**</font>"
   ]
  },
  {
   "cell_type": "code",
   "execution_count": 13,
   "id": "comic-dividend",
   "metadata": {
    "execution": {
     "iopub.execute_input": "2021-09-27T13:58:19.236577Z",
     "iopub.status.busy": "2021-09-27T13:58:19.235536Z",
     "iopub.status.idle": "2021-09-27T13:58:19.311514Z",
     "shell.execute_reply": "2021-09-27T13:58:19.310883Z",
     "shell.execute_reply.started": "2021-09-27T13:39:43.025428Z"
    },
    "papermill": {
     "duration": 0.142437,
     "end_time": "2021-09-27T13:58:19.311673",
     "exception": false,
     "start_time": "2021-09-27T13:58:19.169236",
     "status": "completed"
    },
    "tags": []
   },
   "outputs": [
    {
     "data": {
      "text/plain": [
       "Text(0.5, 1.0, 'Movies vs TV Shows')"
      ]
     },
     "execution_count": 13,
     "metadata": {},
     "output_type": "execute_result"
    },
    {
     "data": {
      "image/png": "[encoded data removed]",
      "text/plain": [
       "<Figure size 720x504 with 1 Axes>"
      ]
     },
     "metadata": {},
     "output_type": "display_data"
    }
   ],
   "source": [
    "# Explore Movies vs TV Shows\n",
    "\n",
    "g = netflix.type.value_counts().plot.pie(figsize=(10, 7),autopct= \"%1.1f%%\")\n",
    "g.set_ylabel(\"Types\")\n",
    "g.set_title(\"Movies vs TV Shows\")"
   ]
  },
  {
   "cell_type": "markdown",
   "id": "arctic-compound",
   "metadata": {
    "papermill": {
     "duration": 0.026764,
     "end_time": "2021-09-27T13:58:19.366275",
     "exception": false,
     "start_time": "2021-09-27T13:58:19.339511",
     "status": "completed"
    },
    "tags": []
   },
   "source": [
    "Number of movies release is comparatively higher than the TV Shows"
   ]
  },
  {
   "cell_type": "markdown",
   "id": "short-aruba",
   "metadata": {
    "papermill": {
     "duration": 0.027519,
     "end_time": "2021-09-27T13:58:19.421721",
     "exception": false,
     "start_time": "2021-09-27T13:58:19.394202",
     "status": "completed"
    },
    "tags": []
   },
   "source": [
    "<font size=\"3\">**3.3 Content distribution based on rating**</font>"
   ]
  },
  {
   "cell_type": "code",
   "execution_count": 14,
   "id": "automatic-adventure",
   "metadata": {
    "execution": {
     "iopub.execute_input": "2021-09-27T13:58:19.492994Z",
     "iopub.status.busy": "2021-09-27T13:58:19.491138Z",
     "iopub.status.idle": "2021-09-27T13:58:19.719599Z",
     "shell.execute_reply": "2021-09-27T13:58:19.719060Z",
     "shell.execute_reply.started": "2021-09-27T13:39:43.162129Z"
    },
    "papermill": {
     "duration": 0.270984,
     "end_time": "2021-09-27T13:58:19.719749",
     "exception": false,
     "start_time": "2021-09-27T13:58:19.448765",
     "status": "completed"
    },
    "tags": []
   },
   "outputs": [
    {
     "data": {
      "text/plain": [
       "Text(0.5, 1.0, 'Ratings Wise Counts')"
      ]
     },
     "execution_count": 14,
     "metadata": {},
     "output_type": "execute_result"
    },
    {
     "data": {
      "image/png": "[encoded data removed]",
      "text/plain": [
       "<Figure size 1296x504 with 1 Axes>"
      ]
     },
     "metadata": {
      "needs_background": "light"
     },
     "output_type": "display_data"
    }
   ],
   "source": [
    "# Show content distribution based on rating\n",
    "\n",
    "plt.figure(figsize=(18,7))\n",
    "g = sns.countplot(x='rating', data=netflix, palette='Blues_r', order=netflix['rating'].value_counts().index[0:15])\n",
    "g.set_xlabel(\"Ratings\")\n",
    "g.set_ylabel(\"No of Movies\")\n",
    "g.set_title(\"Ratings Wise Counts\")"
   ]
  },
  {
   "cell_type": "markdown",
   "id": "hazardous-version",
   "metadata": {
    "papermill": {
     "duration": 0.029192,
     "end_time": "2021-09-27T13:58:19.776953",
     "exception": false,
     "start_time": "2021-09-27T13:58:19.747761",
     "status": "completed"
    },
    "tags": []
   },
   "source": [
    "<font size=\"3\">**3.4 Top 5 country wise ratings**</font>"
   ]
  },
  {
   "cell_type": "code",
   "execution_count": 15,
   "id": "confidential-double",
   "metadata": {
    "execution": {
     "iopub.execute_input": "2021-09-27T13:58:19.845020Z",
     "iopub.status.busy": "2021-09-27T13:58:19.839532Z",
     "iopub.status.idle": "2021-09-27T13:58:20.058825Z",
     "shell.execute_reply": "2021-09-27T13:58:20.058208Z",
     "shell.execute_reply.started": "2021-09-27T13:39:43.416778Z"
    },
    "papermill": {
     "duration": 0.254247,
     "end_time": "2021-09-27T13:58:20.058958",
     "exception": false,
     "start_time": "2021-09-27T13:58:19.804711",
     "status": "completed"
    },
    "tags": []
   },
   "outputs": [
    {
     "data": {
      "text/plain": [
       "Text(0.5, 1.0, 'Top 5 country wise ratings')"
      ]
     },
     "execution_count": 15,
     "metadata": {},
     "output_type": "execute_result"
    },
    {
     "data": {
      "image/png": "[encoded data removed]",
      "text/plain": [
       "<Figure size 1440x360 with 1 Axes>"
      ]
     },
     "metadata": {
      "needs_background": "light"
     },
     "output_type": "display_data"
    }
   ],
   "source": [
    "# Show content top 5 country wise ratings\n",
    "\n",
    "plt.figure(figsize=(20,5))\n",
    "top_countries = netflix[netflix['country'].isin(['United States', 'India', 'United Kingdom', 'Japan', 'South Korea'])]\n",
    "g = sns.histplot(x='rating', y='country', data=top_countries)\n",
    "g.set_xlabel(\"Ratings\")\n",
    "g.set_ylabel(\"Countries\")\n",
    "g.set_title(\"Top 5 country wise ratings\")"
   ]
  },
  {
   "cell_type": "markdown",
   "id": "creative-protocol",
   "metadata": {
    "papermill": {
     "duration": 0.029894,
     "end_time": "2021-09-27T13:58:20.118152",
     "exception": false,
     "start_time": "2021-09-27T13:58:20.088258",
     "status": "completed"
    },
    "tags": []
   },
   "source": [
    "<font size=\"3\">**3.5 Top 10 Movies and TV Shows**</font>"
   ]
  },
  {
   "cell_type": "code",
   "execution_count": 16,
   "id": "rising-effort",
   "metadata": {
    "execution": {
     "iopub.execute_input": "2021-09-27T13:58:20.183811Z",
     "iopub.status.busy": "2021-09-27T13:58:20.183066Z",
     "iopub.status.idle": "2021-09-27T13:58:20.203856Z",
     "shell.execute_reply": "2021-09-27T13:58:20.204303Z",
     "shell.execute_reply.started": "2021-09-27T13:39:43.654534Z"
    },
    "papermill": {
     "duration": 0.057147,
     "end_time": "2021-09-27T13:58:20.204476",
     "exception": false,
     "start_time": "2021-09-27T13:58:20.147329",
     "status": "completed"
    },
    "tags": []
   },
   "outputs": [
    {
     "data": {
      "text/html": [
       "<div>\n",
       "<style scoped>\n",
       "    .dataframe tbody tr th:only-of-type {\n",
       "        vertical-align: middle;\n",
       "    }\n",
       "\n",
       "    .dataframe tbody tr th {\n",
       "        vertical-align: top;\n",
       "    }\n",
       "\n",
       "    .dataframe thead th {\n",
       "        text-align: right;\n",
       "    }\n",
       "</style>\n",
       "<table border=\"1\" class=\"dataframe\">\n",
       "  <thead>\n",
       "    <tr style=\"text-align: right;\">\n",
       "      <th></th>\n",
       "      <th>show_id</th>\n",
       "      <th>type</th>\n",
       "      <th>title</th>\n",
       "      <th>cast</th>\n",
       "      <th>country</th>\n",
       "      <th>date_added</th>\n",
       "      <th>release_year</th>\n",
       "      <th>rating</th>\n",
       "      <th>duration</th>\n",
       "      <th>listed_in</th>\n",
       "      <th>description</th>\n",
       "    </tr>\n",
       "  </thead>\n",
       "  <tbody>\n",
       "    <tr>\n",
       "      <th>7790</th>\n",
       "      <td>s7791</td>\n",
       "      <td>Movie</td>\n",
       "      <td>Prelude to War</td>\n",
       "      <td>NaN</td>\n",
       "      <td>United States</td>\n",
       "      <td>March 31, 2017</td>\n",
       "      <td>1942</td>\n",
       "      <td>TV-14</td>\n",
       "      <td>52 min</td>\n",
       "      <td>Classic Movies, Documentaries</td>\n",
       "      <td>Frank Capra's documentary chronicles the rise ...</td>\n",
       "    </tr>\n",
       "    <tr>\n",
       "      <th>8205</th>\n",
       "      <td>s8206</td>\n",
       "      <td>Movie</td>\n",
       "      <td>The Battle of Midway</td>\n",
       "      <td>Henry Fonda, Jane Darwell</td>\n",
       "      <td>United States</td>\n",
       "      <td>March 31, 2017</td>\n",
       "      <td>1942</td>\n",
       "      <td>TV-14</td>\n",
       "      <td>18 min</td>\n",
       "      <td>Classic Movies, Documentaries</td>\n",
       "      <td>Director John Ford captures combat footage of ...</td>\n",
       "    </tr>\n",
       "    <tr>\n",
       "      <th>8660</th>\n",
       "      <td>s8661</td>\n",
       "      <td>Movie</td>\n",
       "      <td>Undercover: How to Operate Behind Enemy Lines</td>\n",
       "      <td>NaN</td>\n",
       "      <td>United States</td>\n",
       "      <td>March 31, 2017</td>\n",
       "      <td>1943</td>\n",
       "      <td>TV-PG</td>\n",
       "      <td>61 min</td>\n",
       "      <td>Classic Movies, Documentaries</td>\n",
       "      <td>This World War II-era training film dramatizes...</td>\n",
       "    </tr>\n",
       "    <tr>\n",
       "      <th>8763</th>\n",
       "      <td>s8764</td>\n",
       "      <td>Movie</td>\n",
       "      <td>WWII: Report from the Aleutians</td>\n",
       "      <td>NaN</td>\n",
       "      <td>United States</td>\n",
       "      <td>March 31, 2017</td>\n",
       "      <td>1943</td>\n",
       "      <td>TV-PG</td>\n",
       "      <td>45 min</td>\n",
       "      <td>Documentaries</td>\n",
       "      <td>Filmmaker John Huston narrates this Oscar-nomi...</td>\n",
       "    </tr>\n",
       "    <tr>\n",
       "      <th>8739</th>\n",
       "      <td>s8740</td>\n",
       "      <td>Movie</td>\n",
       "      <td>Why We Fight: The Battle of Russia</td>\n",
       "      <td>NaN</td>\n",
       "      <td>United States</td>\n",
       "      <td>March 31, 2017</td>\n",
       "      <td>1943</td>\n",
       "      <td>TV-PG</td>\n",
       "      <td>82 min</td>\n",
       "      <td>Documentaries</td>\n",
       "      <td>This installment of Frank Capra's acclaimed do...</td>\n",
       "    </tr>\n",
       "    <tr>\n",
       "      <th>8419</th>\n",
       "      <td>s8420</td>\n",
       "      <td>Movie</td>\n",
       "      <td>The Memphis Belle: A Story of a\\nFlying Fortress</td>\n",
       "      <td>NaN</td>\n",
       "      <td>United States</td>\n",
       "      <td>March 31, 2017</td>\n",
       "      <td>1944</td>\n",
       "      <td>TV-PG</td>\n",
       "      <td>40 min</td>\n",
       "      <td>Classic Movies, Documentaries</td>\n",
       "      <td>This documentary centers on the crew of the B-...</td>\n",
       "    </tr>\n",
       "    <tr>\n",
       "      <th>8640</th>\n",
       "      <td>s8641</td>\n",
       "      <td>Movie</td>\n",
       "      <td>Tunisian Victory</td>\n",
       "      <td>Burgess Meredith</td>\n",
       "      <td>United States, United Kingdom</td>\n",
       "      <td>March 31, 2017</td>\n",
       "      <td>1944</td>\n",
       "      <td>TV-14</td>\n",
       "      <td>76 min</td>\n",
       "      <td>Classic Movies, Documentaries</td>\n",
       "      <td>British and American troops join forces to lib...</td>\n",
       "    </tr>\n",
       "    <tr>\n",
       "      <th>8436</th>\n",
       "      <td>s8437</td>\n",
       "      <td>Movie</td>\n",
       "      <td>The Negro Soldier</td>\n",
       "      <td>NaN</td>\n",
       "      <td>United States</td>\n",
       "      <td>March 31, 2017</td>\n",
       "      <td>1944</td>\n",
       "      <td>TV-14</td>\n",
       "      <td>40 min</td>\n",
       "      <td>Classic Movies, Documentaries</td>\n",
       "      <td>This documentary urged African Americans to en...</td>\n",
       "    </tr>\n",
       "    <tr>\n",
       "      <th>7575</th>\n",
       "      <td>s7576</td>\n",
       "      <td>Movie</td>\n",
       "      <td>Nazi Concentration Camps</td>\n",
       "      <td>NaN</td>\n",
       "      <td>United States</td>\n",
       "      <td>March 31, 2017</td>\n",
       "      <td>1945</td>\n",
       "      <td>TV-MA</td>\n",
       "      <td>59 min</td>\n",
       "      <td>Classic Movies, Documentaries</td>\n",
       "      <td>Shocking footage shows Nazi concentration camp...</td>\n",
       "    </tr>\n",
       "    <tr>\n",
       "      <th>7930</th>\n",
       "      <td>s7931</td>\n",
       "      <td>Movie</td>\n",
       "      <td>San Pietro</td>\n",
       "      <td>NaN</td>\n",
       "      <td>United States</td>\n",
       "      <td>March 31, 2017</td>\n",
       "      <td>1945</td>\n",
       "      <td>TV-14</td>\n",
       "      <td>32 min</td>\n",
       "      <td>Classic Movies, Documentaries</td>\n",
       "      <td>After the Allies invade Italy, the Liri Valley...</td>\n",
       "    </tr>\n",
       "  </tbody>\n",
       "</table>\n",
       "</div>"
      ],
      "text/plain": [
       "     show_id   type                                             title  \\\n",
       "7790   s7791  Movie                                    Prelude to War   \n",
       "8205   s8206  Movie                              The Battle of Midway   \n",
       "8660   s8661  Movie     Undercover: How to Operate Behind Enemy Lines   \n",
       "8763   s8764  Movie                   WWII: Report from the Aleutians   \n",
       "8739   s8740  Movie                Why We Fight: The Battle of Russia   \n",
       "8419   s8420  Movie  The Memphis Belle: A Story of a\\nFlying Fortress   \n",
       "8640   s8641  Movie                                  Tunisian Victory   \n",
       "8436   s8437  Movie                                 The Negro Soldier   \n",
       "7575   s7576  Movie                          Nazi Concentration Camps   \n",
       "7930   s7931  Movie                                        San Pietro   \n",
       "\n",
       "                           cast                        country  \\\n",
       "7790                        NaN                  United States   \n",
       "8205  Henry Fonda, Jane Darwell                  United States   \n",
       "8660                        NaN                  United States   \n",
       "8763                        NaN                  United States   \n",
       "8739                        NaN                  United States   \n",
       "8419                        NaN                  United States   \n",
       "8640           Burgess Meredith  United States, United Kingdom   \n",
       "8436                        NaN                  United States   \n",
       "7575                        NaN                  United States   \n",
       "7930                        NaN                  United States   \n",
       "\n",
       "          date_added  release_year rating duration  \\\n",
       "7790  March 31, 2017          1942  TV-14   52 min   \n",
       "8205  March 31, 2017          1942  TV-14   18 min   \n",
       "8660  March 31, 2017          1943  TV-PG   61 min   \n",
       "8763  March 31, 2017          1943  TV-PG   45 min   \n",
       "8739  March 31, 2017          1943  TV-PG   82 min   \n",
       "8419  March 31, 2017          1944  TV-PG   40 min   \n",
       "8640  March 31, 2017          1944  TV-14   76 min   \n",
       "8436  March 31, 2017          1944  TV-14   40 min   \n",
       "7575  March 31, 2017          1945  TV-MA   59 min   \n",
       "7930  March 31, 2017          1945  TV-14   32 min   \n",
       "\n",
       "                          listed_in  \\\n",
       "7790  Classic Movies, Documentaries   \n",
       "8205  Classic Movies, Documentaries   \n",
       "8660  Classic Movies, Documentaries   \n",
       "8763                  Documentaries   \n",
       "8739                  Documentaries   \n",
       "8419  Classic Movies, Documentaries   \n",
       "8640  Classic Movies, Documentaries   \n",
       "8436  Classic Movies, Documentaries   \n",
       "7575  Classic Movies, Documentaries   \n",
       "7930  Classic Movies, Documentaries   \n",
       "\n",
       "                                            description  \n",
       "7790  Frank Capra's documentary chronicles the rise ...  \n",
       "8205  Director John Ford captures combat footage of ...  \n",
       "8660  This World War II-era training film dramatizes...  \n",
       "8763  Filmmaker John Huston narrates this Oscar-nomi...  \n",
       "8739  This installment of Frank Capra's acclaimed do...  \n",
       "8419  This documentary centers on the crew of the B-...  \n",
       "8640  British and American troops join forces to lib...  \n",
       "8436  This documentary urged African Americans to en...  \n",
       "7575  Shocking footage shows Nazi concentration camp...  \n",
       "7930  After the Allies invade Italy, the Liri Valley...  "
      ]
     },
     "execution_count": 16,
     "metadata": {},
     "output_type": "execute_result"
    }
   ],
   "source": [
    "# Top 10 oldest movies\n",
    "\n",
    "netflix[netflix['type'] == 'Movie'].sort_values('release_year')[0:10]"
   ]
  },
  {
   "cell_type": "code",
   "execution_count": 17,
   "id": "large-malta",
   "metadata": {
    "execution": {
     "iopub.execute_input": "2021-09-27T13:58:20.270890Z",
     "iopub.status.busy": "2021-09-27T13:58:20.270107Z",
     "iopub.status.idle": "2021-09-27T13:58:20.288680Z",
     "shell.execute_reply": "2021-09-27T13:58:20.288179Z",
     "shell.execute_reply.started": "2021-09-27T13:39:43.684822Z"
    },
    "papermill": {
     "duration": 0.054322,
     "end_time": "2021-09-27T13:58:20.288810",
     "exception": false,
     "start_time": "2021-09-27T13:58:20.234488",
     "status": "completed"
    },
    "tags": []
   },
   "outputs": [
    {
     "data": {
      "text/html": [
       "<div>\n",
       "<style scoped>\n",
       "    .dataframe tbody tr th:only-of-type {\n",
       "        vertical-align: middle;\n",
       "    }\n",
       "\n",
       "    .dataframe tbody tr th {\n",
       "        vertical-align: top;\n",
       "    }\n",
       "\n",
       "    .dataframe thead th {\n",
       "        text-align: right;\n",
       "    }\n",
       "</style>\n",
       "<table border=\"1\" class=\"dataframe\">\n",
       "  <thead>\n",
       "    <tr style=\"text-align: right;\">\n",
       "      <th></th>\n",
       "      <th>show_id</th>\n",
       "      <th>type</th>\n",
       "      <th>title</th>\n",
       "      <th>cast</th>\n",
       "      <th>country</th>\n",
       "      <th>date_added</th>\n",
       "      <th>release_year</th>\n",
       "      <th>rating</th>\n",
       "      <th>duration</th>\n",
       "      <th>listed_in</th>\n",
       "      <th>description</th>\n",
       "    </tr>\n",
       "  </thead>\n",
       "  <tbody>\n",
       "    <tr>\n",
       "      <th>4250</th>\n",
       "      <td>s4251</td>\n",
       "      <td>TV Show</td>\n",
       "      <td>Pioneers: First Women Filmmakers*</td>\n",
       "      <td>NaN</td>\n",
       "      <td>NaN</td>\n",
       "      <td>December 30, 2018</td>\n",
       "      <td>1925</td>\n",
       "      <td>TV-14</td>\n",
       "      <td>1 Season</td>\n",
       "      <td>TV Shows</td>\n",
       "      <td>This collection restores films from women who ...</td>\n",
       "    </tr>\n",
       "    <tr>\n",
       "      <th>1331</th>\n",
       "      <td>s1332</td>\n",
       "      <td>TV Show</td>\n",
       "      <td>Five Came Back: The Reference Films</td>\n",
       "      <td>NaN</td>\n",
       "      <td>United States</td>\n",
       "      <td>February 9, 2021</td>\n",
       "      <td>1945</td>\n",
       "      <td>TV-MA</td>\n",
       "      <td>1 Season</td>\n",
       "      <td>TV Shows</td>\n",
       "      <td>This collection includes 12 World War II-era p...</td>\n",
       "    </tr>\n",
       "    <tr>\n",
       "      <th>7743</th>\n",
       "      <td>s7744</td>\n",
       "      <td>TV Show</td>\n",
       "      <td>Pioneers of African-American Cinema</td>\n",
       "      <td>NaN</td>\n",
       "      <td>United States</td>\n",
       "      <td>February 1, 2017</td>\n",
       "      <td>1946</td>\n",
       "      <td>TV-14</td>\n",
       "      <td>1 Season</td>\n",
       "      <td>TV Shows</td>\n",
       "      <td>This newly preserved collection features more ...</td>\n",
       "    </tr>\n",
       "    <tr>\n",
       "      <th>8541</th>\n",
       "      <td>s8542</td>\n",
       "      <td>TV Show</td>\n",
       "      <td>The Twilight Zone (Original Series)</td>\n",
       "      <td>Rod Serling</td>\n",
       "      <td>United States</td>\n",
       "      <td>July 1, 2017</td>\n",
       "      <td>1963</td>\n",
       "      <td>TV-14</td>\n",
       "      <td>4 Seasons</td>\n",
       "      <td>Classic &amp; Cult TV, TV Sci-Fi &amp; Fantasy</td>\n",
       "      <td>Hosted by creator Rod Serling, this groundbrea...</td>\n",
       "    </tr>\n",
       "    <tr>\n",
       "      <th>8189</th>\n",
       "      <td>s8190</td>\n",
       "      <td>TV Show</td>\n",
       "      <td>The Andy Griffith Show</td>\n",
       "      <td>Andy Griffith, Ron Howard, Don Knotts, Frances...</td>\n",
       "      <td>United States</td>\n",
       "      <td>July 1, 2017</td>\n",
       "      <td>1967</td>\n",
       "      <td>TV-G</td>\n",
       "      <td>8 Seasons</td>\n",
       "      <td>Classic &amp; Cult TV, TV Comedies</td>\n",
       "      <td>Homespun humor and easygoing Sheriff Andy Tayl...</td>\n",
       "    </tr>\n",
       "    <tr>\n",
       "      <th>4550</th>\n",
       "      <td>s4551</td>\n",
       "      <td>TV Show</td>\n",
       "      <td>Monty Python's Fliegender Zirkus</td>\n",
       "      <td>Graham Chapman, John Cleese, Eric Idle, Terry ...</td>\n",
       "      <td>United Kingdom, West Germany</td>\n",
       "      <td>October 2, 2018</td>\n",
       "      <td>1972</td>\n",
       "      <td>TV-MA</td>\n",
       "      <td>1 Season</td>\n",
       "      <td>International TV Shows, TV Comedies</td>\n",
       "      <td>The Pythons elevate the absurd to new heights ...</td>\n",
       "    </tr>\n",
       "    <tr>\n",
       "      <th>4551</th>\n",
       "      <td>s4552</td>\n",
       "      <td>TV Show</td>\n",
       "      <td>Monty Python's Flying Circus</td>\n",
       "      <td>John Cleese, Graham Chapman, Terry Jones, Eric...</td>\n",
       "      <td>United Kingdom</td>\n",
       "      <td>October 2, 2018</td>\n",
       "      <td>1974</td>\n",
       "      <td>TV-14</td>\n",
       "      <td>4 Seasons</td>\n",
       "      <td>British TV Shows, Classic &amp; Cult TV, Internati...</td>\n",
       "      <td>The Monty Python players make their mark with ...</td>\n",
       "    </tr>\n",
       "    <tr>\n",
       "      <th>6549</th>\n",
       "      <td>s6550</td>\n",
       "      <td>TV Show</td>\n",
       "      <td>Dad's Army</td>\n",
       "      <td>Arthur Lowe, John Le Mesurier, Clive Dunn, Joh...</td>\n",
       "      <td>United Kingdom</td>\n",
       "      <td>March 31, 2018</td>\n",
       "      <td>1977</td>\n",
       "      <td>TV-PG</td>\n",
       "      <td>10 Seasons</td>\n",
       "      <td>British TV Shows, Classic &amp; Cult TV, TV Comedies</td>\n",
       "      <td>This beloved sitcom follows the unlikely heroe...</td>\n",
       "    </tr>\n",
       "    <tr>\n",
       "      <th>6674</th>\n",
       "      <td>s6675</td>\n",
       "      <td>TV Show</td>\n",
       "      <td>El Chavo</td>\n",
       "      <td>Roberto Gómez Bolaños, María Antonieta de las ...</td>\n",
       "      <td>Mexico</td>\n",
       "      <td>December 31, 2017</td>\n",
       "      <td>1979</td>\n",
       "      <td>TV-PG</td>\n",
       "      <td>1 Season</td>\n",
       "      <td>Classic &amp; Cult TV, Kids' TV, Spanish-Language ...</td>\n",
       "      <td>El Chavo is a poor, nameless orphan who lives ...</td>\n",
       "    </tr>\n",
       "    <tr>\n",
       "      <th>7588</th>\n",
       "      <td>s7589</td>\n",
       "      <td>TV Show</td>\n",
       "      <td>Ninja Hattori</td>\n",
       "      <td>Junko Hori, Masako Sugaya, Yuko Mita, Kaneta K...</td>\n",
       "      <td>Japan</td>\n",
       "      <td>December 23, 2018</td>\n",
       "      <td>1981</td>\n",
       "      <td>TV-Y7</td>\n",
       "      <td>1 Season</td>\n",
       "      <td>Anime Series, Kids' TV</td>\n",
       "      <td>Elementary school student Kenichi Mitsuba's ho...</td>\n",
       "    </tr>\n",
       "  </tbody>\n",
       "</table>\n",
       "</div>"
      ],
      "text/plain": [
       "     show_id     type                                title  \\\n",
       "4250   s4251  TV Show    Pioneers: First Women Filmmakers*   \n",
       "1331   s1332  TV Show  Five Came Back: The Reference Films   \n",
       "7743   s7744  TV Show  Pioneers of African-American Cinema   \n",
       "8541   s8542  TV Show  The Twilight Zone (Original Series)   \n",
       "8189   s8190  TV Show               The Andy Griffith Show   \n",
       "4550   s4551  TV Show     Monty Python's Fliegender Zirkus   \n",
       "4551   s4552  TV Show         Monty Python's Flying Circus   \n",
       "6549   s6550  TV Show                           Dad's Army   \n",
       "6674   s6675  TV Show                             El Chavo   \n",
       "7588   s7589  TV Show                        Ninja Hattori   \n",
       "\n",
       "                                                   cast  \\\n",
       "4250                                                NaN   \n",
       "1331                                                NaN   \n",
       "7743                                                NaN   \n",
       "8541                                        Rod Serling   \n",
       "8189  Andy Griffith, Ron Howard, Don Knotts, Frances...   \n",
       "4550  Graham Chapman, John Cleese, Eric Idle, Terry ...   \n",
       "4551  John Cleese, Graham Chapman, Terry Jones, Eric...   \n",
       "6549  Arthur Lowe, John Le Mesurier, Clive Dunn, Joh...   \n",
       "6674  Roberto Gómez Bolaños, María Antonieta de las ...   \n",
       "7588  Junko Hori, Masako Sugaya, Yuko Mita, Kaneta K...   \n",
       "\n",
       "                           country         date_added  release_year rating  \\\n",
       "4250                           NaN  December 30, 2018          1925  TV-14   \n",
       "1331                 United States   February 9, 2021          1945  TV-MA   \n",
       "7743                 United States   February 1, 2017          1946  TV-14   \n",
       "8541                 United States       July 1, 2017          1963  TV-14   \n",
       "8189                 United States       July 1, 2017          1967   TV-G   \n",
       "4550  United Kingdom, West Germany    October 2, 2018          1972  TV-MA   \n",
       "4551                United Kingdom    October 2, 2018          1974  TV-14   \n",
       "6549                United Kingdom     March 31, 2018          1977  TV-PG   \n",
       "6674                        Mexico  December 31, 2017          1979  TV-PG   \n",
       "7588                         Japan  December 23, 2018          1981  TV-Y7   \n",
       "\n",
       "        duration                                          listed_in  \\\n",
       "4250    1 Season                                           TV Shows   \n",
       "1331    1 Season                                           TV Shows   \n",
       "7743    1 Season                                           TV Shows   \n",
       "8541   4 Seasons             Classic & Cult TV, TV Sci-Fi & Fantasy   \n",
       "8189   8 Seasons                     Classic & Cult TV, TV Comedies   \n",
       "4550    1 Season                International TV Shows, TV Comedies   \n",
       "4551   4 Seasons  British TV Shows, Classic & Cult TV, Internati...   \n",
       "6549  10 Seasons   British TV Shows, Classic & Cult TV, TV Comedies   \n",
       "6674    1 Season  Classic & Cult TV, Kids' TV, Spanish-Language ...   \n",
       "7588    1 Season                             Anime Series, Kids' TV   \n",
       "\n",
       "                                            description  \n",
       "4250  This collection restores films from women who ...  \n",
       "1331  This collection includes 12 World War II-era p...  \n",
       "7743  This newly preserved collection features more ...  \n",
       "8541  Hosted by creator Rod Serling, this groundbrea...  \n",
       "8189  Homespun humor and easygoing Sheriff Andy Tayl...  \n",
       "4550  The Pythons elevate the absurd to new heights ...  \n",
       "4551  The Monty Python players make their mark with ...  \n",
       "6549  This beloved sitcom follows the unlikely heroe...  \n",
       "6674  El Chavo is a poor, nameless orphan who lives ...  \n",
       "7588  Elementary school student Kenichi Mitsuba's ho...  "
      ]
     },
     "execution_count": 17,
     "metadata": {},
     "output_type": "execute_result"
    }
   ],
   "source": [
    "# Top 10 oldest TV Show\n",
    "\n",
    "netflix[netflix['type'] == 'TV Show'].sort_values('release_year')[0:10]"
   ]
  },
  {
   "cell_type": "markdown",
   "id": "metropolitan-cooper",
   "metadata": {
    "papermill": {
     "duration": 0.030849,
     "end_time": "2021-09-27T13:58:20.350516",
     "exception": false,
     "start_time": "2021-09-27T13:58:20.319667",
     "status": "completed"
    },
    "tags": []
   },
   "source": [
    "<font size=\"3\">**3.6 Month wise released Movies**</font>"
   ]
  },
  {
   "cell_type": "code",
   "execution_count": 18,
   "id": "lined-rolling",
   "metadata": {
    "execution": {
     "iopub.execute_input": "2021-09-27T13:58:20.419409Z",
     "iopub.status.busy": "2021-09-27T13:58:20.418769Z",
     "iopub.status.idle": "2021-09-27T13:58:20.618626Z",
     "shell.execute_reply": "2021-09-27T13:58:20.617959Z",
     "shell.execute_reply.started": "2021-09-27T13:51:37.515977Z"
    },
    "papermill": {
     "duration": 0.236957,
     "end_time": "2021-09-27T13:58:20.618765",
     "exception": false,
     "start_time": "2021-09-27T13:58:20.381808",
     "status": "completed"
    },
    "tags": []
   },
   "outputs": [],
   "source": [
    "# Extract month from date_added column\n",
    "netflix['month'] = pd.to_datetime(netflix['date_added']).dt.month"
   ]
  },
  {
   "cell_type": "code",
   "execution_count": 19,
   "id": "agreed-graham",
   "metadata": {
    "execution": {
     "iopub.execute_input": "2021-09-27T13:58:20.691390Z",
     "iopub.status.busy": "2021-09-27T13:58:20.689852Z",
     "iopub.status.idle": "2021-09-27T13:58:20.911762Z",
     "shell.execute_reply": "2021-09-27T13:58:20.911211Z",
     "shell.execute_reply.started": "2021-09-27T13:57:49.314992Z"
    },
    "papermill": {
     "duration": 0.261146,
     "end_time": "2021-09-27T13:58:20.911900",
     "exception": false,
     "start_time": "2021-09-27T13:58:20.650754",
     "status": "completed"
    },
    "tags": []
   },
   "outputs": [
    {
     "data": {
      "text/plain": [
       "Text(0.5, 1.0, 'Month wise releases')"
      ]
     },
     "execution_count": 19,
     "metadata": {},
     "output_type": "execute_result"
    },
    {
     "data": {
      "image/png": "[encoded data removed]",
      "text/plain": [
       "<Figure size 1296x504 with 1 Axes>"
      ]
     },
     "metadata": {
      "needs_background": "light"
     },
     "output_type": "display_data"
    }
   ],
   "source": [
    "# Show content distribution based on rating\n",
    "\n",
    "plt.figure(figsize=(18,7))\n",
    "\n",
    "g = sns.countplot(x='month', data=netflix)\n",
    "g.set_xticklabels(['January','February','March','April',\n",
    "                   'May','June','July','August','September','October','November','December'])\n",
    "g.set_xlabel(\"Months\")\n",
    "g.set_ylabel(\"No of Movies\")\n",
    "g.set_title(\"Month wise releases\")"
   ]
  },
  {
   "cell_type": "markdown",
   "id": "tough-istanbul",
   "metadata": {
    "papermill": {
     "duration": 0.03229,
     "end_time": "2021-09-27T13:58:20.976770",
     "exception": false,
     "start_time": "2021-09-27T13:58:20.944480",
     "status": "completed"
    },
    "tags": []
   },
   "source": [
    "Comparing to other months, more Movies and TV Shows are released in July and December month"
   ]
  },
  {
   "cell_type": "markdown",
   "id": "comprehensive-recognition",
   "metadata": {
    "papermill": {
     "duration": 0.031488,
     "end_time": "2021-09-27T13:58:21.040809",
     "exception": false,
     "start_time": "2021-09-27T13:58:21.009321",
     "status": "completed"
    },
    "tags": []
   },
   "source": [
    "Please upvote if you liked the kernel! It motevates me :)"
   ]
  }
 ],
 "metadata": {
  "kernelspec": {
   "display_name": "Python 3",
   "language": "python",
   "name": "python3"
  },
  "language_info": {
   "codemirror_mode": {
    "name": "ipython",
    "version": 3
   },
   "file_extension": ".py",
   "mimetype": "text/x-python",
   "name": "python",
   "nbconvert_exporter": "python",
   "pygments_lexer": "ipython3",
   "version": "3.7.10"
  },
  "papermill": {
   "default_parameters": {},
   "duration": 12.568981,
   "end_time": "2021-09-27T13:58:21.784597",
   "environment_variables": {},
   "exception": null,
   "input_path": "__notebook__.ipynb",
   "output_path": "__notebook__.ipynb",
   "parameters": {},
   "start_time": "2021-09-27T13:58:09.215616",
   "version": "2.3.3"
  }
 },
 "nbformat": 4,
 "nbformat_minor": 5
}
